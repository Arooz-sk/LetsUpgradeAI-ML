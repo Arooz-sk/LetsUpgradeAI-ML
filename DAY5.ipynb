{
 "cells": [
  {
   "cell_type": "markdown",
   "metadata": {},
   "source": [
    "# Question 1 :\n",
    "Write a Python program to find the first 20 non-even prime natural numbers."
   ]
  },
  {
   "cell_type": "code",
   "execution_count": 17,
   "metadata": {},
   "outputs": [
    {
     "name": "stdout",
     "output_type": "stream",
     "text": [
      "3 5 7 11 13 17 19 23 29 31 37 41 43 47 53 59 61 67 71 73 79 "
     ]
    }
   ],
   "source": [
    "for n in range(3,80):\n",
    "    count=0\n",
    "    for i in range(2,n//2+1):\n",
    "        if (n%i==0):\n",
    "            count+=1\n",
    "            break\n",
    "    if(count==0 and n!=1 ):\n",
    "        print(n,end=\" \")\n",
    "        "
   ]
  },
  {
   "cell_type": "markdown",
   "metadata": {},
   "source": [
    "# Question 2 :\n",
    "Write a Python program to implement 15 functions of string.\n"
   ]
  },
  {
   "cell_type": "code",
   "execution_count": 5,
   "metadata": {},
   "outputs": [
    {
     "name": "stdout",
     "output_type": "stream",
     "text": [
      "darshan ingle sir\n",
      "DARSHAN INGLE SIR\n",
      "False\n",
      "DARUHAN ingle UIR\n",
      "Darshan ingle sir\n",
      "False\n",
      "False\n",
      "darshan INGLE sir\n",
      "['DARSHAN', 'ingle', 'SIR']\n",
      "8\n",
      "<class 'str'>\n",
      "17\n",
      "False\n",
      "False\n",
      "DARSHAN ingle SIR\n",
      "b'DARSHAN ingle SIR'\n",
      "darshan ingle sir\n"
     ]
    }
   ],
   "source": [
    "s=\"DARSHAN ingle SIR\"\n",
    "print(s.lower())\n",
    "print(s.upper())\n",
    "print(s.isalpha())\n",
    "print(s.replace('S','U'))\n",
    "print(s.capitalize())\n",
    "print(s.isalnum())\n",
    "print(s.isdigit())\n",
    "print(s.swapcase())\n",
    "print(s.split())\n",
    "print(s.find('i'))\n",
    "print(type(s))\n",
    "print(len(s))\n",
    "print(s.startswith('l'))\n",
    "print(s.isupper())\n",
    "print(s.lstrip())\n",
    "print(s.encode())\n",
    "print(s.casefold())\n"
   ]
  },
  {
   "cell_type": "markdown",
   "metadata": {},
   "source": [
    "# Question 3:\n",
    "Write a Python program to check if the given string is a Palindrome or Anagram or None of them.\n",
    "Display the message accordingly to the user."
   ]
  },
  {
   "cell_type": "code",
   "execution_count": 3,
   "metadata": {},
   "outputs": [
    {
     "name": "stdout",
     "output_type": "stream",
     "text": [
      "enter the string= mommy\n",
      "enter the string= yommm\n",
      "anagram\n"
     ]
    }
   ],
   "source": [
    "s=input(\"enter the string= \")\n",
    "n=input(\"enter the string= \")\n",
    "if s[::-1]==s:\n",
    "    print(\"palindrome\")\n",
    "elif (sorted(s) == sorted(n)):\n",
    "    print(\"anagram\")\n",
    "else:\n",
    "    print(\"no\")"
   ]
  }
 ],
 "metadata": {
  "kernelspec": {
   "display_name": "Python 3",
   "language": "python",
   "name": "python3"
  },
  "language_info": {
   "codemirror_mode": {
    "name": "ipython",
    "version": 3
   },
   "file_extension": ".py",
   "mimetype": "text/x-python",
   "name": "python",
   "nbconvert_exporter": "python",
   "pygments_lexer": "ipython3",
   "version": "3.8.0"
  }
 },
 "nbformat": 4,
 "nbformat_minor": 4
}
